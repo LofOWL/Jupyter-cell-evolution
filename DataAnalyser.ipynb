{
 "cells": [
  {
   "cell_type": "code",
   "execution_count": 1,
   "metadata": {},
   "outputs": [],
   "source": [
    "import os\n",
    "import sys\n",
    "import pandas as pd"
   ]
  },
  {
   "cell_type": "code",
   "execution_count": 2,
   "metadata": {},
   "outputs": [],
   "source": [
    "path = '/media/lofowl/My Passport/1353_file_data'"
   ]
  },
  {
   "cell_type": "code",
   "execution_count": 3,
   "metadata": {},
   "outputs": [],
   "source": [
    "convert_repo_path = lambda x: f'{path}/{x}'"
   ]
  },
  {
   "cell_type": "code",
   "execution_count": 4,
   "metadata": {},
   "outputs": [],
   "source": [
    "repos = os.listdir(path)"
   ]
  },
  {
   "cell_type": "code",
   "execution_count": 14,
   "metadata": {},
   "outputs": [],
   "source": [
    "def read(repo):\n",
    "    repo_path = convert_repo_path(repo)\n",
    "    data = pd.read_csv(f'{repo_path}/{repo}_files.csv')\n",
    "    filter_data = data[data['total_number'] >= 1]\n",
    "    not_filter_data = data[data['total_number'] == 0 ]\n",
    "    return len(filter_data),len(not_filter_data),len(filter_data) / (len(filter_data) + len(not_filter_data)),list(filter_data['total_number'])"
   ]
  },
  {
   "cell_type": "code",
   "execution_count": 78,
   "metadata": {},
   "outputs": [
    {
     "name": "stderr",
     "output_type": "stream",
     "text": [
      "100%|██████████| 1348/1348 [01:46<00:00, 12.69it/s]\n"
     ]
    }
   ],
   "source": [
    "from tqdm import tqdm\n",
    "repos = os.listdir(path)\n",
    "filters,not_filters,pres,modified_count = list(),list(),list(),list()\n",
    "for repo in tqdm(repos):\n",
    "    try:\n",
    "        filter,not_filter,pre,mo_count = read(repo)\n",
    "        filters.append(filter)\n",
    "        not_filters.append(not_filter)\n",
    "        pres.append(pre)\n",
    "        modified_count.append(mo_count)\n",
    "    except:\n",
    "        pass"
   ]
  },
  {
   "cell_type": "code",
   "execution_count": 79,
   "metadata": {},
   "outputs": [],
   "source": [
    "from collections import Counter"
   ]
  },
  {
   "cell_type": "code",
   "execution_count": 80,
   "metadata": {},
   "outputs": [],
   "source": [
    "modified_count_one = [j for i in modified_count for j in i]\n",
    "total = len(modified_count_one)\n",
    "modified_count_one = dict(Counter(modified_count_one))"
   ]
  },
  {
   "cell_type": "code",
   "execution_count": 81,
   "metadata": {},
   "outputs": [
    {
     "data": {
      "text/plain": [
       "[(1, 17060),\n",
       " (2, 11989),\n",
       " (3, 4010),\n",
       " (4, 2326),\n",
       " (5, 1514),\n",
       " (6, 1237),\n",
       " (7, 794),\n",
       " (8, 659),\n",
       " (9, 546),\n",
       " (11, 425),\n",
       " (10, 410),\n",
       " (13, 366),\n",
       " (12, 320),\n",
       " (14, 228),\n",
       " (15, 162),\n",
       " (16, 145),\n",
       " (17, 140),\n",
       " (18, 101),\n",
       " (19, 79),\n",
       " (21, 79),\n",
       " (20, 60),\n",
       " (23, 59),\n",
       " (22, 49),\n",
       " (26, 40),\n",
       " (24, 37),\n",
       " (25, 35),\n",
       " (28, 33),\n",
       " (27, 32),\n",
       " (29, 24),\n",
       " (30, 23),\n",
       " (31, 23),\n",
       " (33, 20),\n",
       " (36, 16),\n",
       " (40, 13),\n",
       " (41, 13),\n",
       " (34, 13),\n",
       " (32, 13),\n",
       " (35, 11),\n",
       " (38, 9),\n",
       " (50, 8),\n",
       " (37, 7),\n",
       " (39, 6),\n",
       " (46, 6),\n",
       " (67, 6),\n",
       " (53, 5),\n",
       " (48, 5),\n",
       " (49, 5),\n",
       " (52, 4),\n",
       " (44, 4),\n",
       " (42, 4),\n",
       " (54, 3),\n",
       " (45, 3),\n",
       " (61, 3),\n",
       " (64, 3),\n",
       " (72, 3),\n",
       " (65, 3),\n",
       " (57, 2),\n",
       " (91, 2),\n",
       " (66, 2),\n",
       " (69, 2),\n",
       " (70, 2),\n",
       " (87, 2),\n",
       " (71, 2),\n",
       " (76, 2),\n",
       " (47, 2),\n",
       " (60, 2),\n",
       " (43, 2),\n",
       " (68, 1),\n",
       " (502, 1),\n",
       " (88, 1),\n",
       " (118, 1),\n",
       " (100, 1),\n",
       " (84, 1),\n",
       " (77, 1),\n",
       " (116, 1),\n",
       " (135, 1),\n",
       " (63, 1),\n",
       " (130, 1),\n",
       " (131, 1),\n",
       " (123, 1),\n",
       " (86, 1),\n",
       " (82, 1),\n",
       " (133, 1),\n",
       " (78, 1),\n",
       " (89, 1),\n",
       " (142, 1),\n",
       " (136, 1),\n",
       " (137, 1),\n",
       " (58, 1),\n",
       " (55, 1),\n",
       " (51, 1),\n",
       " (110, 1),\n",
       " (59, 1),\n",
       " (74, 1),\n",
       " (56, 1)]"
      ]
     },
     "execution_count": 81,
     "metadata": {},
     "output_type": "execute_result"
    }
   ],
   "source": [
    "sort_by_values = sorted(list(modified_count_one.items()),key = lambda x: x[1],reverse=True)\n",
    "sort_by_values"
   ]
  },
  {
   "cell_type": "code",
   "execution_count": 82,
   "metadata": {},
   "outputs": [
    {
     "data": {
      "text/plain": [
       "0.05379154043616013"
      ]
     },
     "execution_count": 82,
     "metadata": {},
     "output_type": "execute_result"
    }
   ],
   "source": [
    "sort_by_values[3][1] / total"
   ]
  },
  {
   "cell_type": "code",
   "execution_count": 83,
   "metadata": {},
   "outputs": [
    {
     "data": {
      "text/plain": [
       "[(502, 1),\n",
       " (142, 1),\n",
       " (137, 1),\n",
       " (136, 1),\n",
       " (135, 1),\n",
       " (133, 1),\n",
       " (131, 1),\n",
       " (130, 1),\n",
       " (123, 1),\n",
       " (118, 1),\n",
       " (116, 1),\n",
       " (110, 1),\n",
       " (100, 1),\n",
       " (91, 2),\n",
       " (89, 1),\n",
       " (88, 1),\n",
       " (87, 2),\n",
       " (86, 1),\n",
       " (84, 1),\n",
       " (82, 1),\n",
       " (78, 1),\n",
       " (77, 1),\n",
       " (76, 2),\n",
       " (74, 1),\n",
       " (72, 3),\n",
       " (71, 2),\n",
       " (70, 2),\n",
       " (69, 2),\n",
       " (68, 1),\n",
       " (67, 6),\n",
       " (66, 2),\n",
       " (65, 3),\n",
       " (64, 3),\n",
       " (63, 1),\n",
       " (61, 3),\n",
       " (60, 2),\n",
       " (59, 1),\n",
       " (58, 1),\n",
       " (57, 2),\n",
       " (56, 1),\n",
       " (55, 1),\n",
       " (54, 3),\n",
       " (53, 5),\n",
       " (52, 4),\n",
       " (51, 1),\n",
       " (50, 8),\n",
       " (49, 5),\n",
       " (48, 5),\n",
       " (47, 2),\n",
       " (46, 6),\n",
       " (45, 3),\n",
       " (44, 4),\n",
       " (43, 2),\n",
       " (42, 4),\n",
       " (41, 13),\n",
       " (40, 13),\n",
       " (39, 6),\n",
       " (38, 9),\n",
       " (37, 7),\n",
       " (36, 16),\n",
       " (35, 11),\n",
       " (34, 13),\n",
       " (33, 20),\n",
       " (32, 13),\n",
       " (31, 23),\n",
       " (30, 23),\n",
       " (29, 24),\n",
       " (28, 33),\n",
       " (27, 32),\n",
       " (26, 40),\n",
       " (25, 35),\n",
       " (24, 37),\n",
       " (23, 59),\n",
       " (22, 49),\n",
       " (21, 79),\n",
       " (20, 60),\n",
       " (19, 79),\n",
       " (18, 101),\n",
       " (17, 140),\n",
       " (16, 145),\n",
       " (15, 162),\n",
       " (14, 228),\n",
       " (13, 366),\n",
       " (12, 320),\n",
       " (11, 425),\n",
       " (10, 410),\n",
       " (9, 546),\n",
       " (8, 659),\n",
       " (7, 794),\n",
       " (6, 1237),\n",
       " (5, 1514),\n",
       " (4, 2326),\n",
       " (3, 4010),\n",
       " (2, 11989),\n",
       " (1, 17060)]"
      ]
     },
     "execution_count": 83,
     "metadata": {},
     "output_type": "execute_result"
    }
   ],
   "source": [
    "sort_by_keys = sorted(list(modified_count_one.items()),key = lambda x: x[0],reverse=True)\n",
    "sort_by_keys"
   ]
  },
  {
   "cell_type": "code",
   "execution_count": 84,
   "metadata": {},
   "outputs": [
    {
     "name": "stdout",
     "output_type": "stream",
     "text": [
      "11086\n"
     ]
    }
   ],
   "source": [
    "counts = 0\n",
    "for key,value in sort_by_keys: \n",
    "    counts += value if 3 <= key < 10 else 0\n",
    "print(counts)"
   ]
  },
  {
   "cell_type": "code",
   "execution_count": 85,
   "metadata": {},
   "outputs": [
    {
     "data": {
      "text/plain": [
       "0.2563770495594459"
      ]
     },
     "execution_count": 85,
     "metadata": {},
     "output_type": "execute_result"
    }
   ],
   "source": [
    "counts / total"
   ]
  },
  {
   "cell_type": "code",
   "execution_count": 88,
   "metadata": {},
   "outputs": [
    {
     "data": {
      "text/plain": [
       "148491"
      ]
     },
     "execution_count": 88,
     "metadata": {},
     "output_type": "execute_result"
    }
   ],
   "source": [
    "sum(i*j for i,j in modified_count_one.items())"
   ]
  }
 ],
 "metadata": {
  "kernelspec": {
   "display_name": "Python 3",
   "language": "python",
   "name": "python3"
  },
  "language_info": {
   "codemirror_mode": {
    "name": "ipython",
    "version": 3
   },
   "file_extension": ".py",
   "mimetype": "text/x-python",
   "name": "python",
   "nbconvert_exporter": "python",
   "pygments_lexer": "ipython3",
   "version": "3.7.3"
  }
 },
 "nbformat": 4,
 "nbformat_minor": 2
}
