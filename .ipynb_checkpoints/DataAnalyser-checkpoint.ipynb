{
 "cells": [
  {
   "cell_type": "code",
   "execution_count": 1,
   "metadata": {},
   "outputs": [],
   "source": [
    "import os\n",
    "import sys\n",
    "import pandas as pd"
   ]
  },
  {
   "cell_type": "code",
   "execution_count": 2,
   "metadata": {},
   "outputs": [],
   "source": [
    "path = '/media/lofowl/My Passport/1353_file_data'"
   ]
  },
  {
   "cell_type": "code",
   "execution_count": 3,
   "metadata": {},
   "outputs": [],
   "source": [
    "convert_repo_path = lambda x: f'{path}/{x}'"
   ]
  },
  {
   "cell_type": "code",
   "execution_count": null,
   "metadata": {},
   "outputs": [],
   "source": [
    "repos = os.listdir(path)"
   ]
  },
  {
   "cell_type": "code",
   "execution_count": 4,
   "metadata": {},
   "outputs": [],
   "source": [
    "def read(repo):\n",
    "    repo_path = convert_repo_path(repo)\n",
    "    data = pd.read_csv(f'{repo_path}/{repo}_files.csv')\n",
    "    filter_data = data[data['total_number'] >= 1]\n",
    "    print(filter_data)\n",
    "    print(filter_data['total_number'])\n",
    "    not_filter_data = data[data['total_number'] == 0 ]\n",
    "    return len(filter_data),len(not_filter_data),len(filter_data) / (len(filter_data) + len(not_filter_data))"
   ]
  },
  {
   "cell_type": "code",
   "execution_count": null,
   "metadata": {},
   "outputs": [],
   "source": [
    "repo = repos[0]\n",
    "read(repo)"
   ]
  },
  {
   "cell_type": "code",
   "execution_count": null,
   "metadata": {},
   "outputs": [
    {
     "name": "stderr",
     "output_type": "stream",
     "text": [
      " 32%|██████████████████████████████▉                                                                  | 430/1348 [01:36<03:08,  4.88it/s]"
     ]
    }
   ],
   "source": [
    "from tqdm import tqdm\n",
    "repos = os.listdir(path)\n",
    "filters,not_filters,pres = list(),list(),list()\n",
    "for repo in tqdm(repos):\n",
    "    try:\n",
    "        filter,not_filter,pre = read(repo)\n",
    "        filters.append(filter)\n",
    "        not_filters.append(not_filter)\n",
    "        pres.append(pre)\n",
    "    except:\n",
    "        pass\n",
    "print(f'{filters} {not_filter} {pre}')\n",
    "print(f'{sum(filters)}')\n",
    "print(f'{sum(not_filters)}')"
   ]
  },
  {
   "cell_type": "code",
   "execution_count": null,
   "metadata": {},
   "outputs": [],
   "source": [
    "import matplotlib.pyplot as plt"
   ]
  }
 ],
 "metadata": {
  "kernelspec": {
   "display_name": "Python 3",
   "language": "python",
   "name": "python3"
  },
  "language_info": {
   "codemirror_mode": {
    "name": "ipython",
    "version": 3
   },
   "file_extension": ".py",
   "mimetype": "text/x-python",
   "name": "python",
   "nbconvert_exporter": "python",
   "pygments_lexer": "ipython3",
   "version": "3.7.3"
  }
 },
 "nbformat": 4,
 "nbformat_minor": 2
}
